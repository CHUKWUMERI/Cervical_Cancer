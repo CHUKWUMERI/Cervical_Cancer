{
 "cells": [
  {
   "cell_type": "markdown",
   "metadata": {},
   "source": [
    "# Confidence Interval\n",
    "\n",
    "This notebook will cover the concept of confidence interval and how to find the confidence interval in various scenarios. It will also brush the z and t tables as they are important for confidence interval estimation. Confidence intervals as the name suggests are intervals that statisticians use to estimate a value given a level of probabilty (usually 95% or 99%).\n",
    "\n",
    "- Univariate \n",
    "    - Known variance\n",
    "    - Unknown variance\n",
    "- Bivariate \n",
    "    - Dependent, \n",
    "    - Independent\n",
    "        - known variance\n",
    "        - Unknown variance - assumed to be equal\n",
    "        - Unknown variance - assumed to be unequal\n",
    "        \n",
    "The formula for confidence interval is:\n",
    "**[Point Estimate $\\pm $ Reliability Factor * Standard Error]**\n",
    "\n",
    "The formula for each of the components of the above formula is dependent on the kind of data that would be analysed. "
   ]
  },
  {
   "cell_type": "code",
   "execution_count": 1,
   "metadata": {},
   "outputs": [],
   "source": [
    "import pandas as pd\n",
    "import numpy as np\n",
    "import scipy \n",
    "import seaborn as sns\n",
    "import matplotlib.pyplot as plt\n",
    "%matplotlib inline"
   ]
  },
  {
   "cell_type": "markdown",
   "metadata": {},
   "source": [
    "## 1 Univariate Data \n",
    "### a. Known Variance\n",
    "\n",
    "For **Univariate data** where **Variance is known**, the **Z score** is used in calculating the reliability factor. The components of the above formula are:\n",
    "$$\\\\ \\mu \\pm Z_{\\alpha / 2} * \\frac{\\sigma}{\\sqrt{n}}  \\\\ $$\n",
    "\n",
    "**Example**: \n",
    "So you want to advise a friend on getting laptops in your city and you took price samples of fifty laptops with the intention of telling your friend how much he needs to budget for it. So you want to be 95% sure of the average cost of laptops. \n",
    "\n",
    "\n",
    "*Given that level of confidence is 95%, thus, $\\alpha $ would be 5%; this would translate to 0.95 and 0.05 respectively. To obtain the z score of the value, you subtract $\\alpha $ from 1.* "
   ]
  },
  {
   "cell_type": "code",
   "execution_count": 2,
   "metadata": {},
   "outputs": [
    {
     "data": {
      "text/html": [
       "<div>\n",
       "<style scoped>\n",
       "    .dataframe tbody tr th:only-of-type {\n",
       "        vertical-align: middle;\n",
       "    }\n",
       "\n",
       "    .dataframe tbody tr th {\n",
       "        vertical-align: top;\n",
       "    }\n",
       "\n",
       "    .dataframe thead th {\n",
       "        text-align: right;\n",
       "    }\n",
       "</style>\n",
       "<table border=\"1\" class=\"dataframe\">\n",
       "  <thead>\n",
       "    <tr style=\"text-align: right;\">\n",
       "      <th></th>\n",
       "      <th>Laptop Price</th>\n",
       "    </tr>\n",
       "  </thead>\n",
       "  <tbody>\n",
       "    <tr>\n",
       "      <th>0</th>\n",
       "      <td>94256</td>\n",
       "    </tr>\n",
       "    <tr>\n",
       "      <th>1</th>\n",
       "      <td>77173</td>\n",
       "    </tr>\n",
       "    <tr>\n",
       "      <th>2</th>\n",
       "      <td>49566</td>\n",
       "    </tr>\n",
       "    <tr>\n",
       "      <th>3</th>\n",
       "      <td>36019</td>\n",
       "    </tr>\n",
       "    <tr>\n",
       "      <th>4</th>\n",
       "      <td>89434</td>\n",
       "    </tr>\n",
       "  </tbody>\n",
       "</table>\n",
       "</div>"
      ],
      "text/plain": [
       "   Laptop Price\n",
       "0         94256\n",
       "1         77173\n",
       "2         49566\n",
       "3         36019\n",
       "4         89434"
      ]
     },
     "execution_count": 2,
     "metadata": {},
     "output_type": "execute_result"
    }
   ],
   "source": [
    "np.random.seed(2)\n",
    "laptops = pd.DataFrame(np.random.randint(5000, 100000, 50), columns=['Laptop Price'])\n",
    "laptops.head()"
   ]
  },
  {
   "cell_type": "code",
   "execution_count": 3,
   "metadata": {},
   "outputs": [
    {
     "name": "stdout",
     "output_type": "stream",
     "text": [
      "Thus we are 95% sure that the average price of laptops will be between 46123 and 60642\n"
     ]
    }
   ],
   "source": [
    "mean = laptops.mean()[0] # Mean price\n",
    "s_error = laptops.std()[0] / np.sqrt(len(laptops)) # Standard Deviation of the prices\n",
    "r_fact = scipy.stats.norm.ppf(1- (0.05 / 2)) # Reliability factor\n",
    "\n",
    "print('Thus we are 95% sure that the average price of laptops will be between {:.0f} and {:.0f}'.format(mean - (r_fact * s_error), \n",
    "                                                                                          mean + (r_fact * s_error)))"
   ]
  },
  {
   "cell_type": "markdown",
   "metadata": {},
   "source": [
    "### b. Unknown Variance\n",
    "\n",
    "For **Univariate data** where **Variance is unknown**, the **T score** is used in calculating the reliability factor. The components of the above formula are:\n",
    "$$\\\\ \\mu \\pm t_{n - 1, \\alpha / 2} * \\frac{SD}{\\sqrt{n}}  \\\\ $$\n",
    "\n",
    "**Example**: \n",
    "So you want to advise a friend on getting phones in your city and you took price samples of fourty phones with the intention of telling your friend how much he needs to budget for it. So you want to be 95% sure of the average cost of phones. \n",
    "\n",
    "\n",
    "*Given that level of confidence is 95%, thus, $\\alpha $ would be 5%; this would translate to 0.95 and 0.05 respectively. To obtain the t score of the value, you subtract $\\alpha $ from 1.* "
   ]
  },
  {
   "cell_type": "code",
   "execution_count": 4,
   "metadata": {},
   "outputs": [
    {
     "data": {
      "text/html": [
       "<div>\n",
       "<style scoped>\n",
       "    .dataframe tbody tr th:only-of-type {\n",
       "        vertical-align: middle;\n",
       "    }\n",
       "\n",
       "    .dataframe tbody tr th {\n",
       "        vertical-align: top;\n",
       "    }\n",
       "\n",
       "    .dataframe thead th {\n",
       "        text-align: right;\n",
       "    }\n",
       "</style>\n",
       "<table border=\"1\" class=\"dataframe\">\n",
       "  <thead>\n",
       "    <tr style=\"text-align: right;\">\n",
       "      <th></th>\n",
       "      <th>Phone Price</th>\n",
       "    </tr>\n",
       "  </thead>\n",
       "  <tbody>\n",
       "    <tr>\n",
       "      <th>0</th>\n",
       "      <td>15256</td>\n",
       "    </tr>\n",
       "    <tr>\n",
       "      <th>1</th>\n",
       "      <td>98105</td>\n",
       "    </tr>\n",
       "    <tr>\n",
       "      <th>2</th>\n",
       "      <td>82726</td>\n",
       "    </tr>\n",
       "    <tr>\n",
       "      <th>3</th>\n",
       "      <td>15704</td>\n",
       "    </tr>\n",
       "    <tr>\n",
       "      <th>4</th>\n",
       "      <td>77711</td>\n",
       "    </tr>\n",
       "  </tbody>\n",
       "</table>\n",
       "</div>"
      ],
      "text/plain": [
       "   Phone Price\n",
       "0        15256\n",
       "1        98105\n",
       "2        82726\n",
       "3        15704\n",
       "4        77711"
      ]
     },
     "execution_count": 4,
     "metadata": {},
     "output_type": "execute_result"
    }
   ],
   "source": [
    "np.random.seed(23)\n",
    "phone = pd.DataFrame(np.random.randint(6000, 100000, 20), columns=['Phone Price'])\n",
    "phone.head()"
   ]
  },
  {
   "cell_type": "code",
   "execution_count": 5,
   "metadata": {},
   "outputs": [
    {
     "name": "stdout",
     "output_type": "stream",
     "text": [
      "Thus we are 95% sure that the average price of phones will be between 32734 and 59784\n"
     ]
    }
   ],
   "source": [
    "ph_mean = phone.mean()[0] # Mean price of phone\n",
    "std_error = phone.std()[0] / np.sqrt(len(phone)) # Standard Error\n",
    "r_factor = scipy.stats.t.ppf(1-0.025, df=(len(phone) - 1)) # t statistics \n",
    "\n",
    "\n",
    "print('Thus we are 95% sure that the average price of phones will be between {:.0f} and {:.0f}'.format(ph_mean - r_factor * std_error, \n",
    "                                                                                           ph_mean + r_factor * std_error))"
   ]
  },
  {
   "cell_type": "markdown",
   "metadata": {},
   "source": [
    "## 2. Bivariate Population\n",
    "### a. Dependent Population\n",
    "Looking at a dual population where the **population is dependent** and **variance is unknown**, the confidence interval for the difference between the two means is thus:\n",
    "\n",
    "$$\\\\ \\mu \\pm t_{n - 1, \\alpha / 2} * \\frac{S_{d}}{\\sqrt{n}}  \\\\ $$\n",
    "\n",
    "**Example**: The scores of 40 students were taken before and after a performance enhancing test is administered. So we want to determine if the performance enhancing test made any difference in the scores."
   ]
  },
  {
   "cell_type": "code",
   "execution_count": 6,
   "metadata": {},
   "outputs": [
    {
     "data": {
      "text/html": [
       "<div>\n",
       "<style scoped>\n",
       "    .dataframe tbody tr th:only-of-type {\n",
       "        vertical-align: middle;\n",
       "    }\n",
       "\n",
       "    .dataframe tbody tr th {\n",
       "        vertical-align: top;\n",
       "    }\n",
       "\n",
       "    .dataframe thead th {\n",
       "        text-align: right;\n",
       "    }\n",
       "</style>\n",
       "<table border=\"1\" class=\"dataframe\">\n",
       "  <thead>\n",
       "    <tr style=\"text-align: right;\">\n",
       "      <th></th>\n",
       "      <th>Before</th>\n",
       "      <th>After</th>\n",
       "    </tr>\n",
       "  </thead>\n",
       "  <tbody>\n",
       "    <tr>\n",
       "      <th>0</th>\n",
       "      <td>93</td>\n",
       "      <td>63</td>\n",
       "    </tr>\n",
       "    <tr>\n",
       "      <th>1</th>\n",
       "      <td>55</td>\n",
       "      <td>13</td>\n",
       "    </tr>\n",
       "    <tr>\n",
       "      <th>2</th>\n",
       "      <td>57</td>\n",
       "      <td>19</td>\n",
       "    </tr>\n",
       "    <tr>\n",
       "      <th>3</th>\n",
       "      <td>23</td>\n",
       "      <td>87</td>\n",
       "    </tr>\n",
       "    <tr>\n",
       "      <th>4</th>\n",
       "      <td>66</td>\n",
       "      <td>57</td>\n",
       "    </tr>\n",
       "    <tr>\n",
       "      <th>5</th>\n",
       "      <td>23</td>\n",
       "      <td>2</td>\n",
       "    </tr>\n",
       "    <tr>\n",
       "      <th>6</th>\n",
       "      <td>53</td>\n",
       "      <td>57</td>\n",
       "    </tr>\n",
       "    <tr>\n",
       "      <th>7</th>\n",
       "      <td>60</td>\n",
       "      <td>100</td>\n",
       "    </tr>\n",
       "    <tr>\n",
       "      <th>8</th>\n",
       "      <td>41</td>\n",
       "      <td>12</td>\n",
       "    </tr>\n",
       "    <tr>\n",
       "      <th>9</th>\n",
       "      <td>92</td>\n",
       "      <td>38</td>\n",
       "    </tr>\n",
       "  </tbody>\n",
       "</table>\n",
       "</div>"
      ],
      "text/plain": [
       "   Before  After\n",
       "0      93     63\n",
       "1      55     13\n",
       "2      57     19\n",
       "3      23     87\n",
       "4      66     57\n",
       "5      23      2\n",
       "6      53     57\n",
       "7      60    100\n",
       "8      41     12\n",
       "9      92     38"
      ]
     },
     "execution_count": 6,
     "metadata": {},
     "output_type": "execute_result"
    }
   ],
   "source": [
    "np.random.seed(9)\n",
    "scores = pd.DataFrame({'Before': np.random.randint(1, 101, 20), 'After': np.random.randint(1, 101, 20)})\n",
    "\n",
    "scores.head(10)"
   ]
  },
  {
   "cell_type": "code",
   "execution_count": 7,
   "metadata": {},
   "outputs": [],
   "source": [
    "scores['Difference'] = scores.After - scores.Before"
   ]
  },
  {
   "cell_type": "code",
   "execution_count": 8,
   "metadata": {},
   "outputs": [
    {
     "name": "stdout",
     "output_type": "stream",
     "text": [
      "This can be interpreted that it is 95% certain that the mean of the scores after the test was administered ranged from -34 points lower than the mean scores before the test was administered to 2 points higher than the mean scores of the before scores\n",
      "Thus we can conclude that the performance enhancing test is not effective\n"
     ]
    }
   ],
   "source": [
    "sc_mean = scores['Difference'].mean() # mean scores\n",
    "r_factor = scipy.stats.t.ppf(1-0.025, df=(len(scores) - 1)) # t statistics \n",
    "std_err = scores['Difference'].std() / np.sqrt(len(scores['Difference'])) # standard error\n",
    "\n",
    "print('This can be interpreted that it is 95% certain that the mean of the scores after the test was administered ranged from {:.0f} points lower than the mean scores before the test was administered to {:.0f} points higher than the mean scores of the before scores'.format(sc_mean - (r_factor * std_err), sc_mean + (r_factor * std_err)))\n",
    "\n",
    "print('Thus we can conclude that the performance enhancing test is not effective')"
   ]
  },
  {
   "cell_type": "markdown",
   "metadata": {},
   "source": [
    "### b. Independent Population \n",
    "#### i. Variance Known\n",
    "Looking at a dual population where the **population is independent** and **variance is known**, to calculate the variance of both the population will be: $$ \\\\ \\frac{\\sigma_{a}^{2}}{n_{a}} + \\frac{\\sigma_{b}^{2}}{n_{b}} \\\\ $$\n",
    "The confidence interval for the difference between the two means is thus:\n",
    " \n",
    " $$\\\\ (\\bar{x} - \\bar{y}) \\pm Z_{\\alpha / 2} * {\\sqrt{\\frac{\\sigma_{x}^{2}}{n_{x}} + \\frac{\\sigma_{y}^{2}}{n_{y}}}}  \\\\ $$\n",
    "\n",
    "**Example**: The income of two different professions (delivery men and janitors) were obtained. So we want to check if there is a difference between the income of both professions. 100 and 80 samples were obtained resectively."
   ]
  },
  {
   "cell_type": "code",
   "execution_count": 9,
   "metadata": {},
   "outputs": [
    {
     "data": {
      "text/plain": [
       "'We are 95% confident that the salary of delivery men differ from that of janitors by -1260433.0 to 1378461.0'"
      ]
     },
     "execution_count": 9,
     "metadata": {},
     "output_type": "execute_result"
    }
   ],
   "source": [
    "delivery_men, janitors = np.random.randint(15000, 800000, 100), np.random.randint(15000, 800000, 80)\n",
    "\n",
    "var_diff = np.sqrt((delivery_men.std() ** 2 / len(delivery_men))+ (janitors.std() ** 2/ len(janitors)))\n",
    "mean_diff = delivery_men.mean() - janitors.mean()\n",
    "crit_val = scipy.stats.norm.ppf(1- (0.05 / 2)) * 20\n",
    "\n",
    "'We are 95% confident that the salary of delivery men differ from that of janitors by {} to {}'.format(\n",
    "round(mean_diff - (crit_val * var_diff)), round(mean_diff + (crit_val * var_diff)))"
   ]
  },
  {
   "cell_type": "markdown",
   "metadata": {},
   "source": [
    "### b. Independent Population \n",
    "#### ii. Variance Unknown but Assumed to be Equal\n",
    "Looking at a dual population where the **population is independent** and **variance is known**: \n",
    "$$ \\\\ pooled variance = S_{p}^{2} = \\frac{(n_{x} - 1)S_{x}^{2} + (n_{y} - 1)S_{y}^{2}}{n_{x} + n_{y} - 2}  \\\\ $$\n",
    "The confidence interval for the difference between the two means is thus:\n",
    " \n",
    " $$\\\\ (\\bar{x} - \\bar{y}) \\pm t_{n_{x} + n_{y} - 2},{\\alpha / 2} * {\\sqrt{\\frac{S_{p}^{2}}{n_{x}} + \\frac{S_{p}^{2}}{n_{y}}}}  \\\\ $$\n",
    "\n",
    "\n",
    "**Example**: The sample of the cost of Lag_barbecue and benin_barbecue are given below. We want to check the difference between both means. 30 and 40 samples were obtained resectively."
   ]
  },
  {
   "cell_type": "code",
   "execution_count": 90,
   "metadata": {},
   "outputs": [],
   "source": [
    "Lag_barb, benin_barb = np.random.randint(1000, 5000, 30), np.random.randint(1000, 5000, 40)"
   ]
  },
  {
   "cell_type": "code",
   "execution_count": 91,
   "metadata": {},
   "outputs": [
    {
     "data": {
      "text/html": [
       "<div>\n",
       "<style scoped>\n",
       "    .dataframe tbody tr th:only-of-type {\n",
       "        vertical-align: middle;\n",
       "    }\n",
       "\n",
       "    .dataframe tbody tr th {\n",
       "        vertical-align: top;\n",
       "    }\n",
       "\n",
       "    .dataframe thead th {\n",
       "        text-align: right;\n",
       "    }\n",
       "</style>\n",
       "<table border=\"1\" class=\"dataframe\">\n",
       "  <thead>\n",
       "    <tr style=\"text-align: right;\">\n",
       "      <th></th>\n",
       "      <th>Lag_barbecue_Lagos</th>\n",
       "      <th>Lag_barbecue_Benin</th>\n",
       "    </tr>\n",
       "  </thead>\n",
       "  <tbody>\n",
       "    <tr>\n",
       "      <th>0</th>\n",
       "      <td>1465</td>\n",
       "      <td>4067</td>\n",
       "    </tr>\n",
       "    <tr>\n",
       "      <th>1</th>\n",
       "      <td>4539</td>\n",
       "      <td>3290</td>\n",
       "    </tr>\n",
       "    <tr>\n",
       "      <th>2</th>\n",
       "      <td>4357</td>\n",
       "      <td>2316</td>\n",
       "    </tr>\n",
       "    <tr>\n",
       "      <th>3</th>\n",
       "      <td>4461</td>\n",
       "      <td>2355</td>\n",
       "    </tr>\n",
       "    <tr>\n",
       "      <th>4</th>\n",
       "      <td>1424</td>\n",
       "      <td>1387</td>\n",
       "    </tr>\n",
       "  </tbody>\n",
       "</table>\n",
       "</div>"
      ],
      "text/plain": [
       "   Lag_barbecue_Lagos  Lag_barbecue_Benin\n",
       "0                1465                4067\n",
       "1                4539                3290\n",
       "2                4357                2316\n",
       "3                4461                2355\n",
       "4                1424                1387"
      ]
     },
     "execution_count": 91,
     "metadata": {},
     "output_type": "execute_result"
    }
   ],
   "source": [
    "pd.DataFrame(zip(Lag_barb, benin_barb), columns=['Lag_barbecue_Lagos', 'Lag_barbecue_Benin']).head()"
   ]
  },
  {
   "cell_type": "code",
   "execution_count": 92,
   "metadata": {},
   "outputs": [
    {
     "name": "stdout",
     "output_type": "stream",
     "text": [
      "There is a 95% certainty that the price of Lag_barbecue would either be 3157.0 lower or 3199.0\n",
      "higher than the price of benin_barbecure\n"
     ]
    }
   ],
   "source": [
    "# critical factor\n",
    "crit_fact = scipy.stats.t.ppf(1-0.025, df=(len(Lag_barb) + len(benin_barb) - 2)) \n",
    "\n",
    "# calculating the pooled variance\n",
    "pooled_var = ((len(Lag_barb) - 1) * Lag_barb.std() ** 2) + ((len(benin_barb) -1) * benin_barb.std() ** 2) / (len(Lag_barb) + len(benin_barb) - 2)\n",
    "\n",
    "# calculating the standard error\n",
    "std_error = np.sqrt(pooled_var / len(Lag_barb) + pooled_var / len(benin_barb))\n",
    "\n",
    "# mean difference\n",
    "mean_diff = Lag_barb.mean() - benin_barb.mean()\n",
    "\n",
    "# confidence interval\n",
    "round(mean_diff + crit_fact * std_error), round(mean_diff - crit_fact * std_error)\n",
    "\n",
    "print(\"\"\"There is a 95% certainty that the price of Lag_barbecue would either be {} lower or {}\n",
    "higher than the price of benin_barbecure\"\"\".format(round(((mean_diff - crit_fact * std_error)*-1)), \n",
    "                                            round(mean_diff + crit_fact * std_error)))"
   ]
  },
  {
   "cell_type": "markdown",
   "metadata": {},
   "source": [
    "### b. Independent Population \n",
    "#### iii. Variance Unknown and Not assumed to be Equal\n",
    "Looking at a dual population where the **population is independent** and **variance is unknown and assumed to not be equal**: \n",
    "The confidence interval for the difference between the two means is thus:\n",
    " \n",
    " $$\\\\ (\\bar{x} - \\bar{y}) \\pm t_{v},{\\alpha / 2} * {\\sqrt{\\frac{S_{p}^{2}}{n_{x}} + \\frac{S_{p}^{2}}{n_{y}}}}  \\\\ $$\n",
    "\n",
    "\n",
    "$$ \\\\ t_{v} = \\frac{({\\frac{S_{x}^{2}}{n_{x}} + \\frac{S_{y}^{2}}{n_{y}}})^{2}}{Denominator}  \\\\ $$\n",
    "\n",
    "$$\\\\ denominator = {(\\frac{S_{x}^{2}}{n_{x}})^{2} /{n_{x}} - 1  + (\\frac{S_{y}^{2}}{n_{y}})^{2}}/{n_{y}} - 1  \\\\ $$\n",
    "\n",
    "**Example**: The sample of the cost of bible and dictionary are given below. We want to check the difference between both means. 30 and 30 samples were obtained resectively."
   ]
  },
  {
   "cell_type": "code",
   "execution_count": 68,
   "metadata": {},
   "outputs": [],
   "source": [
    "bible, dictionary = np.random.randint(3000, 15001, 30), np.random.randint(3000, 15001, 30)"
   ]
  },
  {
   "cell_type": "code",
   "execution_count": 78,
   "metadata": {},
   "outputs": [],
   "source": [
    "# calculating the degrees of freedom\n",
    "def degree(sample_1, sample_2):\n",
    "    sample_1_error = (sample_1.std() ** 2) / len(sample_1)\n",
    "    sample_2_error = (sample_2.std() ** 2) / len(sample_2)\n",
    "\n",
    "    numerator = (sample_1_error + sample_2_error) ** 2\n",
    "    denom = (sample_1_error ** 2) / (len(sample_1) - 1) + (sample_2_error ** 2) / (len(sample_2) - 1)\n",
    "    df = numerator / denom\n",
    "    return df\n",
    "\n",
    "# Calculating the error\n",
    "def error(sample_1, sample_2):\n",
    "    sample_1_error = (sample_1.std() ** 2) / len(sample_1)\n",
    "    sample_2_error = (sample_2.std() ** 2) / len(sample_2)\n",
    "    \n",
    "    combined = sample_1_error + sample_2_error\n",
    "    return np.sqrt(combined)\n",
    "\n",
    "# Calculating the mean difference\n",
    "def mean_diff(sample_1, sample_2):\n",
    "    return sample_1.mean() - sample_2.mean()"
   ]
  },
  {
   "cell_type": "code",
   "execution_count": 95,
   "metadata": {},
   "outputs": [
    {
     "name": "stdout",
     "output_type": "stream",
     "text": [
      "There is a 95% certainty that the price of bible would either be 1551.0 lower or 1941.0\n",
      "higher than the price of dictionary\n"
     ]
    }
   ],
   "source": [
    "# upper limit\n",
    "upper = mean_diff(bible, dictionary) + scipy.stats.t.ppf(1-0.025, df=degree(bible, dictionary)) * error(bible, dictionary)\n",
    "\n",
    "# lower limit\n",
    "lower = mean_diff(bible, dictionary) - scipy.stats.t.ppf(1-0.025, df=degree(bible, dictionary)) * error(bible, dictionary)\n",
    "\n",
    "print(\"\"\"There is a 95% certainty that the price of bible would either be {} lower or {}\n",
    "higher than the price of dictionary\"\"\".format(round(((lower)*-1)), \n",
    "                                            round(upper)))"
   ]
  },
  {
   "cell_type": "code",
   "execution_count": null,
   "metadata": {},
   "outputs": [],
   "source": []
  },
  {
   "cell_type": "code",
   "execution_count": null,
   "metadata": {},
   "outputs": [],
   "source": []
  },
  {
   "cell_type": "code",
   "execution_count": null,
   "metadata": {},
   "outputs": [],
   "source": []
  },
  {
   "cell_type": "code",
   "execution_count": null,
   "metadata": {},
   "outputs": [],
   "source": []
  },
  {
   "cell_type": "code",
   "execution_count": null,
   "metadata": {},
   "outputs": [],
   "source": []
  },
  {
   "cell_type": "code",
   "execution_count": null,
   "metadata": {},
   "outputs": [],
   "source": []
  },
  {
   "cell_type": "code",
   "execution_count": null,
   "metadata": {},
   "outputs": [],
   "source": []
  },
  {
   "cell_type": "code",
   "execution_count": null,
   "metadata": {},
   "outputs": [],
   "source": []
  },
  {
   "cell_type": "code",
   "execution_count": null,
   "metadata": {},
   "outputs": [],
   "source": []
  },
  {
   "cell_type": "code",
   "execution_count": null,
   "metadata": {},
   "outputs": [],
   "source": []
  },
  {
   "cell_type": "code",
   "execution_count": null,
   "metadata": {},
   "outputs": [],
   "source": []
  },
  {
   "cell_type": "code",
   "execution_count": null,
   "metadata": {},
   "outputs": [],
   "source": []
  },
  {
   "cell_type": "code",
   "execution_count": null,
   "metadata": {},
   "outputs": [],
   "source": []
  },
  {
   "cell_type": "code",
   "execution_count": null,
   "metadata": {},
   "outputs": [],
   "source": []
  },
  {
   "cell_type": "code",
   "execution_count": null,
   "metadata": {},
   "outputs": [],
   "source": []
  },
  {
   "cell_type": "code",
   "execution_count": null,
   "metadata": {},
   "outputs": [],
   "source": []
  },
  {
   "cell_type": "code",
   "execution_count": null,
   "metadata": {},
   "outputs": [],
   "source": []
  },
  {
   "cell_type": "code",
   "execution_count": null,
   "metadata": {},
   "outputs": [],
   "source": []
  },
  {
   "cell_type": "code",
   "execution_count": null,
   "metadata": {},
   "outputs": [],
   "source": [
    "class ConfidenceInterval():\n",
    "    import scipy\n",
    "    def __init__(self, var = True, ind = True, dual = True, diff = True):\n",
    "        self.var = var\n",
    "        self.ind = ind\n",
    "        self.dual = dual\n",
    "        \n",
    "#     crit_val = scipy.stats.t.ppf(1-0.025, df=(len(scores) - 1))\n",
    "\n",
    "\"\"\"The critical value used would be heavily dependent on the the sample size, if sample is less than 50, use \n",
    "t score however, if greater than 50, use z score\"\"\""
   ]
  },
  {
   "cell_type": "code",
   "execution_count": null,
   "metadata": {},
   "outputs": [],
   "source": []
  },
  {
   "cell_type": "code",
   "execution_count": null,
   "metadata": {},
   "outputs": [],
   "source": []
  }
 ],
 "metadata": {
  "kernelspec": {
   "display_name": "Python 3",
   "language": "python",
   "name": "python3"
  },
  "language_info": {
   "codemirror_mode": {
    "name": "ipython",
    "version": 3
   },
   "file_extension": ".py",
   "mimetype": "text/x-python",
   "name": "python",
   "nbconvert_exporter": "python",
   "pygments_lexer": "ipython3",
   "version": "3.7.3"
  }
 },
 "nbformat": 4,
 "nbformat_minor": 2
}
